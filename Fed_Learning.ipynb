{
  "nbformat": 4,
  "nbformat_minor": 0,
  "metadata": {
    "colab": {
      "name": "Fed_Learning.ipynb",
      "provenance": [],
      "collapsed_sections": []
    },
    "kernelspec": {
      "name": "python3",
      "display_name": "Python 3"
    },
    "language_info": {
      "name": "python"
    }
  },
  "cells": [
    {
      "cell_type": "code",
      "source": [
        "!pip install tensorflow_federated==0.20.0"
      ],
      "metadata": {
        "id": "MEvBII9oq0eT"
      },
      "execution_count": null,
      "outputs": []
    },
    {
      "cell_type": "code",
      "source": [
        "import nest_asyncio\n",
        "nest_asyncio.apply()\n",
        "import sys\n",
        "import pandas as pd\n",
        "import numpy as np\n",
        "import tensorflow.compat.v1 as tf\n",
        "from tensorflow import keras\n",
        "from tensorflow.keras import layers \n",
        "import tensorflow_federated as tff\n",
        "tf.compat.v1.enable_eager_execution()\n",
        "from tensorflow_model_optimization.python.core.internal import tensor_encoding as te\n"
      ],
      "metadata": {
        "id": "nB9JfRuJqaW8"
      },
      "execution_count": 26,
      "outputs": []
    },
    {
      "cell_type": "code",
      "source": [
        "dataset_paths = {\n",
        "  'client_0': '/content/dev1.csv',\n",
        "  'client_1': '/content/dev2.csv',\n",
        "  'client_2': '/content/dev3.csv'\n",
        "}\n",
        "\n",
        "for i, (id, path) in enumerate(dataset_paths.items()):\n",
        "  with open(path, 'w') as f:\n",
        "    for _ in range(i):\n",
        "      f.write(f'test,0.0,{i}\\n')\n",
        "\n",
        "record_defaults = ['', 0.0, 0]\n",
        "\n",
        "@tf.function\n",
        "def create_tf_dataset_for_client_fn(dataset_path):\n",
        "   return tf.data.experimental.CsvDataset(\n",
        "     dataset_path, record_defaults=record_defaults )\n",
        "\n",
        "source = tff.simulation.datasets.FilePerUserClientData(\n",
        "  dataset_paths, create_tf_dataset_for_client_fn)"
      ],
      "metadata": {
        "id": "njD_hWSwkKU3"
      },
      "execution_count": 20,
      "outputs": []
    },
    {
      "cell_type": "code",
      "source": [
        "traindata = [source in range(10)]\n",
        "train_data = tf.reshape(traindata, [1,1])"
      ],
      "metadata": {
        "id": "BCY08RPAl30j"
      },
      "execution_count": 21,
      "outputs": []
    },
    {
      "cell_type": "code",
      "source": [
        "def model_fn():\n",
        "  model = tf.keras.models.Sequential([\n",
        "      tf.keras.layers.Dense(10, tf.nn.softmax, input_shape=(784,),\n",
        "                            kernel_initializer='zeros')\n",
        "  ])\n",
        "  return tff.learning.from_keras_model(\n",
        "      model,\n",
        "      input_spec=train_data[0].element_spec,\n",
        "      loss=tf.keras.losses.SparseCategoricalCrossentropy(),\n",
        "      metrics=[tf.keras.metrics.SparseCategoricalAccuracy()])"
      ],
      "metadata": {
        "id": "uYjf4JBLmw2O"
      },
      "execution_count": 22,
      "outputs": []
    },
    {
      "cell_type": "code",
      "source": [
        "trainer = tff.learning.algorithms.build_weighted_fed_avg(\n",
        "  model_fn,\n",
        "  client_optimizer_fn=lambda: tf.keras.optimizers.SGD(0.1))\n",
        "state = trainer.initialize()\n",
        "for _ in range(5):\n",
        "  result = trainer.next(state, train_data)\n",
        "  state = result.state\n",
        "  metrics = result.metrics\n",
        "  print(metrics['train']['loss'])"
      ],
      "metadata": {
        "id": "XpO2lJdXuAwc"
      },
      "execution_count": null,
      "outputs": []
    }
  ]
}